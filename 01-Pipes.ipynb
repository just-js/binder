{
 "cells": [
  {
   "cell_type": "code",
   "execution_count": 1,
   "metadata": {},
   "outputs": [],
   "source": [
    "import re"
   ]
  },
  {
   "cell_type": "code",
   "execution_count": 2,
   "metadata": {},
   "outputs": [],
   "source": [
    "!gcc -O3 -o wc just/examples/pipes/wc.c"
   ]
  },
  {
   "cell_type": "code",
   "execution_count": null,
   "metadata": {},
   "outputs": [
    {
     "name": "stdout",
     "output_type": "stream",
     "text": [
      "running c\n",
      "['1000000+0 records in', '1000000+0 records out', '65536000000 bytes (66 GB, 61 GiB) copied, 14.5241 s, 4.5 GB/s', '0.30,14.18,1596,200,2491']\n",
      "running just-sync\n",
      "['1000000+0 records in', '1000000+0 records out', '65536000000 bytes (66 GB, 61 GiB) copied, 14.832 s, 4.4 GB/s', '0.52,14.24,17844,107,5401']\n",
      "running just-async\n",
      "['1000000+0 records in', '1000000+0 records out', '65536000000 bytes (66 GB, 61 GiB) copied, 14.6984 s, 4.5 GB/s', '1.17,13.48,18192,95,3324']\n",
      "running node.js\n",
      "['1000000+0 records in', '1000000+0 records out', '65536000000 bytes (66 GB, 61 GiB) copied, 17.9388 s, 3.7 GB/s', '4.75,13.91,57048,60,28524']\n",
      "running node.js bindings\n"
     ]
    }
   ],
   "source": [
    "results = []\n",
    "runs = 1000000\n",
    "tests = {\n",
    "    'c': './wc',\n",
    "    'just-sync': 'just just/examples/pipes/wc.js',\n",
    "    'just-async': 'just just/examples/pipes/wc-async.js',\n",
    "    'node.js': 'node just/examples/pipes/wc-node.js',\n",
    "    'node.js bindings': 'node just/examples/pipes/wc-node-fast.js'    \n",
    "}\n",
    "for name, command in tests.items():\n",
    "    print(f'running {name}')\n",
    "    result = !dd if=/dev/zero bs=65536 count={runs} | time -f \"%U,%S,%M,%c,%w\" {command} 1>/dev/null\n",
    "    summary = re.search('(\\d+) bytes.+copied,.([\\d\\.]+)', result[2])\n",
    "    stats = result[3].split(',')\n",
    "    result = {\n",
    "        'name': name, \n",
    "        'total': int(summary.group(1)), \n",
    "        'time': float(summary.group(2)), \n",
    "        'user': float(stats[0]), \n",
    "        'system': float(stats[1]), \n",
    "        'rss': int(stats[2]), \n",
    "        'ix': int(stats[3]), \n",
    "        'vx': int(stats[4])\n",
    "    }\n",
    "    results.append(result)\n",
    "print('tests complete')"
   ]
  },
  {
   "cell_type": "code",
   "execution_count": 138,
   "metadata": {},
   "outputs": [
    {
     "data": {
      "text/html": [
       "<style>.output_html .hll { background-color: #ffffcc }\n",
       ".output_html  { background: #f8f8f8; }\n",
       ".output_html .c { color: #408080; font-style: italic } /* Comment */\n",
       ".output_html .err { border: 1px solid #FF0000 } /* Error */\n",
       ".output_html .k { color: #008000; font-weight: bold } /* Keyword */\n",
       ".output_html .o { color: #666666 } /* Operator */\n",
       ".output_html .ch { color: #408080; font-style: italic } /* Comment.Hashbang */\n",
       ".output_html .cm { color: #408080; font-style: italic } /* Comment.Multiline */\n",
       ".output_html .cp { color: #BC7A00 } /* Comment.Preproc */\n",
       ".output_html .cpf { color: #408080; font-style: italic } /* Comment.PreprocFile */\n",
       ".output_html .c1 { color: #408080; font-style: italic } /* Comment.Single */\n",
       ".output_html .cs { color: #408080; font-style: italic } /* Comment.Special */\n",
       ".output_html .gd { color: #A00000 } /* Generic.Deleted */\n",
       ".output_html .ge { font-style: italic } /* Generic.Emph */\n",
       ".output_html .gr { color: #FF0000 } /* Generic.Error */\n",
       ".output_html .gh { color: #000080; font-weight: bold } /* Generic.Heading */\n",
       ".output_html .gi { color: #00A000 } /* Generic.Inserted */\n",
       ".output_html .go { color: #888888 } /* Generic.Output */\n",
       ".output_html .gp { color: #000080; font-weight: bold } /* Generic.Prompt */\n",
       ".output_html .gs { font-weight: bold } /* Generic.Strong */\n",
       ".output_html .gu { color: #800080; font-weight: bold } /* Generic.Subheading */\n",
       ".output_html .gt { color: #0044DD } /* Generic.Traceback */\n",
       ".output_html .kc { color: #008000; font-weight: bold } /* Keyword.Constant */\n",
       ".output_html .kd { color: #008000; font-weight: bold } /* Keyword.Declaration */\n",
       ".output_html .kn { color: #008000; font-weight: bold } /* Keyword.Namespace */\n",
       ".output_html .kp { color: #008000 } /* Keyword.Pseudo */\n",
       ".output_html .kr { color: #008000; font-weight: bold } /* Keyword.Reserved */\n",
       ".output_html .kt { color: #B00040 } /* Keyword.Type */\n",
       ".output_html .m { color: #666666 } /* Literal.Number */\n",
       ".output_html .s { color: #BA2121 } /* Literal.String */\n",
       ".output_html .na { color: #7D9029 } /* Name.Attribute */\n",
       ".output_html .nb { color: #008000 } /* Name.Builtin */\n",
       ".output_html .nc { color: #0000FF; font-weight: bold } /* Name.Class */\n",
       ".output_html .no { color: #880000 } /* Name.Constant */\n",
       ".output_html .nd { color: #AA22FF } /* Name.Decorator */\n",
       ".output_html .ni { color: #999999; font-weight: bold } /* Name.Entity */\n",
       ".output_html .ne { color: #D2413A; font-weight: bold } /* Name.Exception */\n",
       ".output_html .nf { color: #0000FF } /* Name.Function */\n",
       ".output_html .nl { color: #A0A000 } /* Name.Label */\n",
       ".output_html .nn { color: #0000FF; font-weight: bold } /* Name.Namespace */\n",
       ".output_html .nt { color: #008000; font-weight: bold } /* Name.Tag */\n",
       ".output_html .nv { color: #19177C } /* Name.Variable */\n",
       ".output_html .ow { color: #AA22FF; font-weight: bold } /* Operator.Word */\n",
       ".output_html .w { color: #bbbbbb } /* Text.Whitespace */\n",
       ".output_html .mb { color: #666666 } /* Literal.Number.Bin */\n",
       ".output_html .mf { color: #666666 } /* Literal.Number.Float */\n",
       ".output_html .mh { color: #666666 } /* Literal.Number.Hex */\n",
       ".output_html .mi { color: #666666 } /* Literal.Number.Integer */\n",
       ".output_html .mo { color: #666666 } /* Literal.Number.Oct */\n",
       ".output_html .sa { color: #BA2121 } /* Literal.String.Affix */\n",
       ".output_html .sb { color: #BA2121 } /* Literal.String.Backtick */\n",
       ".output_html .sc { color: #BA2121 } /* Literal.String.Char */\n",
       ".output_html .dl { color: #BA2121 } /* Literal.String.Delimiter */\n",
       ".output_html .sd { color: #BA2121; font-style: italic } /* Literal.String.Doc */\n",
       ".output_html .s2 { color: #BA2121 } /* Literal.String.Double */\n",
       ".output_html .se { color: #BB6622; font-weight: bold } /* Literal.String.Escape */\n",
       ".output_html .sh { color: #BA2121 } /* Literal.String.Heredoc */\n",
       ".output_html .si { color: #BB6688; font-weight: bold } /* Literal.String.Interpol */\n",
       ".output_html .sx { color: #008000 } /* Literal.String.Other */\n",
       ".output_html .sr { color: #BB6688 } /* Literal.String.Regex */\n",
       ".output_html .s1 { color: #BA2121 } /* Literal.String.Single */\n",
       ".output_html .ss { color: #19177C } /* Literal.String.Symbol */\n",
       ".output_html .bp { color: #008000 } /* Name.Builtin.Pseudo */\n",
       ".output_html .fm { color: #0000FF } /* Name.Function.Magic */\n",
       ".output_html .vc { color: #19177C } /* Name.Variable.Class */\n",
       ".output_html .vg { color: #19177C } /* Name.Variable.Global */\n",
       ".output_html .vi { color: #19177C } /* Name.Variable.Instance */\n",
       ".output_html .vm { color: #19177C } /* Name.Variable.Magic */\n",
       ".output_html .il { color: #666666 } /* Literal.Number.Integer.Long */</style><div class=\"highlight\"><pre><span></span><span class=\"kr\">const</span> <span class=\"p\">{</span> <span class=\"nx\">net</span><span class=\"p\">,</span> <span class=\"nx\">sys</span><span class=\"p\">,</span> <span class=\"nx\">print</span><span class=\"p\">,</span> <span class=\"nx\">error</span> <span class=\"p\">}</span> <span class=\"o\">=</span> <span class=\"nx\">just</span>\n",
       "<span class=\"kr\">const</span> <span class=\"p\">{</span> <span class=\"nx\">read</span> <span class=\"p\">}</span> <span class=\"o\">=</span> <span class=\"nx\">net</span>\n",
       "<span class=\"kr\">const</span> <span class=\"p\">{</span> <span class=\"nx\">exit</span><span class=\"p\">,</span> <span class=\"nx\">strerror</span><span class=\"p\">,</span> <span class=\"nx\">errno</span><span class=\"p\">,</span> <span class=\"nx\">STDIN_FILENO</span> <span class=\"p\">}</span> <span class=\"o\">=</span> <span class=\"nx\">sys</span>\n",
       "<span class=\"kr\">const</span> <span class=\"nx\">BUFSIZE</span> <span class=\"o\">=</span> <span class=\"mi\">65536</span>\n",
       "\n",
       "<span class=\"kr\">const</span> <span class=\"nx\">buf</span> <span class=\"o\">=</span> <span class=\"k\">new</span> <span class=\"nx\">ArrayBuffer</span><span class=\"p\">(</span><span class=\"nx\">BUFSIZE</span><span class=\"p\">)</span>\n",
       "<span class=\"kd\">let</span> <span class=\"nx\">size</span> <span class=\"o\">=</span> <span class=\"mi\">0</span>\n",
       "<span class=\"kd\">let</span> <span class=\"nx\">n</span> <span class=\"o\">=</span> <span class=\"mi\">0</span>\n",
       "<span class=\"k\">while</span> <span class=\"p\">((</span><span class=\"nx\">n</span> <span class=\"o\">=</span> <span class=\"nx\">read</span><span class=\"p\">(</span><span class=\"nx\">STDIN_FILENO</span><span class=\"p\">,</span> <span class=\"nx\">buf</span><span class=\"p\">)))</span> <span class=\"nx\">size</span> <span class=\"o\">+=</span> <span class=\"nx\">n</span>\n",
       "<span class=\"k\">if</span> <span class=\"p\">(</span><span class=\"nx\">n</span> <span class=\"o\">&lt;</span> <span class=\"mi\">0</span><span class=\"p\">)</span> <span class=\"p\">{</span>\n",
       "  <span class=\"nx\">error</span><span class=\"p\">(</span><span class=\"sb\">`read: </span><span class=\"si\">${</span><span class=\"nx\">strerror</span><span class=\"p\">(</span><span class=\"nx\">errno</span><span class=\"p\">())</span><span class=\"si\">}</span><span class=\"sb\"> (</span><span class=\"si\">${</span><span class=\"nx\">errno</span><span class=\"p\">()</span><span class=\"si\">}</span><span class=\"sb\">)`</span><span class=\"p\">)</span>\n",
       "  <span class=\"nx\">exit</span><span class=\"p\">(</span><span class=\"mi\">1</span><span class=\"p\">)</span>\n",
       "<span class=\"p\">}</span>\n",
       "<span class=\"nx\">print</span><span class=\"p\">(</span><span class=\"sb\">`size: </span><span class=\"si\">${</span><span class=\"nx\">size</span><span class=\"si\">}</span><span class=\"sb\">`</span><span class=\"p\">)</span>\n",
       "</pre></div>\n"
      ],
      "text/latex": [
       "\\begin{Verbatim}[commandchars=\\\\\\{\\}]\n",
       "\\PY{k+kr}{const} \\PY{p}{\\PYZob{}} \\PY{n+nx}{net}\\PY{p}{,} \\PY{n+nx}{sys}\\PY{p}{,} \\PY{n+nx}{print}\\PY{p}{,} \\PY{n+nx}{error} \\PY{p}{\\PYZcb{}} \\PY{o}{=} \\PY{n+nx}{just}\n",
       "\\PY{k+kr}{const} \\PY{p}{\\PYZob{}} \\PY{n+nx}{read} \\PY{p}{\\PYZcb{}} \\PY{o}{=} \\PY{n+nx}{net}\n",
       "\\PY{k+kr}{const} \\PY{p}{\\PYZob{}} \\PY{n+nx}{exit}\\PY{p}{,} \\PY{n+nx}{strerror}\\PY{p}{,} \\PY{n+nx}{errno}\\PY{p}{,} \\PY{n+nx}{STDIN\\PYZus{}FILENO} \\PY{p}{\\PYZcb{}} \\PY{o}{=} \\PY{n+nx}{sys}\n",
       "\\PY{k+kr}{const} \\PY{n+nx}{BUFSIZE} \\PY{o}{=} \\PY{l+m+mi}{65536}\n",
       "\n",
       "\\PY{k+kr}{const} \\PY{n+nx}{buf} \\PY{o}{=} \\PY{k}{new} \\PY{n+nx}{ArrayBuffer}\\PY{p}{(}\\PY{n+nx}{BUFSIZE}\\PY{p}{)}\n",
       "\\PY{k+kd}{let} \\PY{n+nx}{size} \\PY{o}{=} \\PY{l+m+mi}{0}\n",
       "\\PY{k+kd}{let} \\PY{n+nx}{n} \\PY{o}{=} \\PY{l+m+mi}{0}\n",
       "\\PY{k}{while} \\PY{p}{(}\\PY{p}{(}\\PY{n+nx}{n} \\PY{o}{=} \\PY{n+nx}{read}\\PY{p}{(}\\PY{n+nx}{STDIN\\PYZus{}FILENO}\\PY{p}{,} \\PY{n+nx}{buf}\\PY{p}{)}\\PY{p}{)}\\PY{p}{)} \\PY{n+nx}{size} \\PY{o}{+=} \\PY{n+nx}{n}\n",
       "\\PY{k}{if} \\PY{p}{(}\\PY{n+nx}{n} \\PY{o}{\\PYZlt{}} \\PY{l+m+mi}{0}\\PY{p}{)} \\PY{p}{\\PYZob{}}\n",
       "  \\PY{n+nx}{error}\\PY{p}{(}\\PY{l+s+sb}{`}\\PY{l+s+sb}{read: }\\PY{l+s+si}{\\PYZdl{}\\PYZob{}}\\PY{n+nx}{strerror}\\PY{p}{(}\\PY{n+nx}{errno}\\PY{p}{(}\\PY{p}{)}\\PY{p}{)}\\PY{l+s+si}{\\PYZcb{}}\\PY{l+s+sb}{ (}\\PY{l+s+si}{\\PYZdl{}\\PYZob{}}\\PY{n+nx}{errno}\\PY{p}{(}\\PY{p}{)}\\PY{l+s+si}{\\PYZcb{}}\\PY{l+s+sb}{)}\\PY{l+s+sb}{`}\\PY{p}{)}\n",
       "  \\PY{n+nx}{exit}\\PY{p}{(}\\PY{l+m+mi}{1}\\PY{p}{)}\n",
       "\\PY{p}{\\PYZcb{}}\n",
       "\\PY{n+nx}{print}\\PY{p}{(}\\PY{l+s+sb}{`}\\PY{l+s+sb}{size: }\\PY{l+s+si}{\\PYZdl{}\\PYZob{}}\\PY{n+nx}{size}\\PY{l+s+si}{\\PYZcb{}}\\PY{l+s+sb}{`}\\PY{p}{)}\n",
       "\\end{Verbatim}\n"
      ],
      "text/plain": [
       "const { net, sys, print, error } = just\n",
       "const { read } = net\n",
       "const { exit, strerror, errno, STDIN_FILENO } = sys\n",
       "const BUFSIZE = 65536\n",
       "\n",
       "const buf = new ArrayBuffer(BUFSIZE)\n",
       "let size = 0\n",
       "let n = 0\n",
       "while ((n = read(STDIN_FILENO, buf))) size += n\n",
       "if (n < 0) {\n",
       "  error(`read: ${strerror(errno())} (${errno()})`)\n",
       "  exit(1)\n",
       "}\n",
       "print(`size: ${size}`)"
      ]
     },
     "execution_count": 138,
     "metadata": {},
     "output_type": "execute_result"
    }
   ],
   "source": [
    "from IPython.display import Code\n",
    "Code(filename='wc.js')"
   ]
  },
  {
   "cell_type": "code",
   "execution_count": 139,
   "metadata": {},
   "outputs": [],
   "source": [
    "import pandas as pd\n",
    "import numpy as np\n",
    "import matplotlib.pyplot as plt\n",
    "%matplotlib inline"
   ]
  },
  {
   "cell_type": "code",
   "execution_count": 145,
   "metadata": {},
   "outputs": [
    {
     "data": {
      "text/plain": [
       "[Text(0, 0, 'c'),\n",
       " Text(1, 0, 'just-sync'),\n",
       " Text(2, 0, 'just-async'),\n",
       " Text(3, 0, 'node.js'),\n",
       " Text(4, 0, 'node.js bindings')]"
      ]
     },
     "execution_count": 145,
     "metadata": {},
     "output_type": "execute_result"
    },
    {
     "data": {
      "image/png": "[encoded data removed]",
      "text/plain": [
       "<Figure size 640x480 with 2 Axes>"
      ]
     },
     "metadata": {},
     "output_type": "display_data"
    }
   ],
   "source": [
    "data = pd.DataFrame(results)\n",
    "total = data['user'] + data['system']\n",
    "data['total'] = total\n",
    "fastest = min(data['total'])\n",
    "overhead = (data['total'] - fastest) / fastest\n",
    "data['overhead'] = overhead\n",
    "df = data[['name','overhead','total','user','system']]\n",
    "df = df.sort_values(['overhead', 'total'], ascending=[1,0])\n",
    "fig = plt.figure(num=None, figsize=(8, 6), dpi=80, facecolor='#f0f0f0', edgecolor='k')\n",
    "y1 = fig.add_subplot(111)\n",
    "y2 = y1.twinx()\n",
    "width = 0.2\n",
    "df.system.plot(kind='bar', color='red', ax=y2, width=width, position=0)\n",
    "df.user.plot(kind='bar', bottom=df.system, color='green', ax=y2, width=width, position=0)\n",
    "df.overhead.plot(kind='bar', color='magenta', ax=y1, width=width, position=1)\n",
    "plt.grid(color='#f0f0f0', linestyle='-', linewidth=1)\n",
    "y1.set_ylabel('Overhead', color='magenta')\n",
    "y2.set_ylabel('Usage', color='red')\n",
    "y1.set_xticklabels(data['name'], rotation=45, fontsize=14)\n"
   ]
  },
  {
   "cell_type": "code",
   "execution_count": null,
   "metadata": {},
   "outputs": [],
   "source": []
  }
 ],
 "metadata": {
  "kernelspec": {
   "display_name": "Python 3",
   "language": "python",
   "name": "python3"
  },
  "language_info": {
   "codemirror_mode": {
    "name": "ipython",
    "version": 3
   },
   "file_extension": ".py",
   "mimetype": "text/x-python",
   "name": "python",
   "nbconvert_exporter": "python",
   "pygments_lexer": "ipython3",
   "version": "3.7.6"
  }
 },
 "nbformat": 4,
 "nbformat_minor": 4
}
